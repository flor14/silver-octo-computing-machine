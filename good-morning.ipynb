{
 "cells": [
  {
   "cell_type": "markdown",
   "id": "09c3a13a-c182-44a0-9014-1883f8aa8fbc",
   "metadata": {},
   "source": [
    "Hello World"
   ]
  },
  {
   "cell_type": "markdown",
   "id": "65903342-a63b-4bc5-8933-1cd5ec12ee04",
   "metadata": {},
   "source": []
  }
 ],
 "metadata": {
  "kernelspec": {
   "display_name": "Python 3 (ipykernel)",
   "language": "python",
   "name": "python3"
  },
  "language_info": {
   "codemirror_mode": {
    "name": "ipython",
    "version": 3
   },
   "file_extension": ".py",
   "mimetype": "text/x-python",
   "name": "python",
   "nbconvert_exporter": "python",
   "pygments_lexer": "ipython3",
   "version": "3.10.0"
  }
 },
 "nbformat": 4,
 "nbformat_minor": 5
}
